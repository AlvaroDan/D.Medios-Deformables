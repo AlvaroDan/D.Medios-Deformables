
rng = MersenneTwister(1234);
x=shuffle!(rng, Vector(0:5))

l1= rand([0,1,2,3,4,5],(3,3))


l2= rand([0,1,2,3,4,5],(3,3))

l3= rand([0,1,2,3,4,5],(3,3))

l4= rand([0,1,2,3,4,5],(3,3))

l5= rand([0,1,2,3,4,5],(3,3))

#en general definamos
l= rand([0,1,2,3,4,5],(3,3));

a=[1 2 3 ]

phi=[3 2 1; 4 7 8; 2 1 3]

A=a*(l1+l2+l3+l4+l5) #representa a_i ~ que es la combinacion lineal elementos de matrices por un vector

PHI=(l1*l2*phi) #ejemplo tomemos l1 y l2 que es un tensor de orden dos 

W=a*transpose(a)

K= trace(phi)

Q=0.5*(K*K-(2*8*1)*(4*2*1))

D=det(phi)

w=A*transpose(A)

k= trace(PHI)

q=0.5*(k*k-(254*339*86)*(78*111*109))

d=det(PHI)
