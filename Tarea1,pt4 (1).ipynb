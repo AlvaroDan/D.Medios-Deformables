{
 "cells": [
  {
   "cell_type": "markdown",
   "metadata": {},
   "source": [
    "# Tarea 1, parte 4"
   ]
  },
  {
   "cell_type": "markdown",
   "metadata": {},
   "source": [
    "Escriba un código que dados tres números enteros i, j, k, cada uno de loscuales puede tomar valores 1, 2, 3, imprima el valor del símbolo de Levi-Civita $$\\epsilon_{ijk}$$"
   ]
  },
  {
   "cell_type": "markdown",
   "metadata": {},
   "source": [
    "Esta definido como un tensor de la siguiente manera:\n",
    "$$\\epsilon_{ijk}=\\left\\{\\begin{array}{cl} 1, & ijk & permut & par; \\\\\\ -1, & ijk &permut& impar\n",
    "\\\\\\ 0, & ijk &dos& subindices& iguales\\end{array}\\right.$$"
   ]
  },
  {
   "cell_type": "markdown",
   "metadata": {},
   "source": [
    "El determinante de una matriz A con elementos ${a_ij}$ puede ser escrito en terminos de $$\\epsilon_{ijk}$$ como:\n",
    "$$det \\left( A\\right) =\\sum ^{3}_{i=1}\\sum ^{3}_{j=1}\\sum ^{3}_{x=1}\\varepsilon _{ijk}a_{1i}a_{2j}a_{3k}=\\varepsilon _{ijk}a_{1i}a_{2j}a_{3k}$$"
   ]
  },
  {
   "cell_type": "markdown",
   "metadata": {},
   "source": [
    "Ahora podemos definir por analogía a la definición del determinante un tipo adicional de\n",
    "producto, el producto vectorial o simplemente producto cruzado"
   ]
  },
  {
   "cell_type": "markdown",
   "metadata": {},
   "source": [
    "Como $\\varepsilon _{ijk}=\\det \\left( \\widehat {e}_{i},\\widehat {e_{j}},\\widehat {e}_{k}\\right) =\\widehat {e}_{i}\\cdot \\left( \\widehat {e}_{j}\\times \\widehat {e}_{k}\\right)$ , entonces $\\overline {a}\\times \\overline {b}=\\varepsilon _{ijk}\\widehat {e}_{i}a_{j}b_{k}$"
   ]
  },
  {
   "cell_type": "code",
   "execution_count": 4,
   "metadata": {},
   "outputs": [
    {
     "data": {
      "text/plain": [
       "sign (generic function with 1 method)"
      ]
     },
     "execution_count": 4,
     "metadata": {},
     "output_type": "execute_result"
    }
   ],
   "source": [
    "function sign{T<:Integer}(perm::AbstractVector{T})\n",
    "    L = length(perm)\n",
    "    crosses = 0\n",
    "    for i = 1:L\n",
    "        for j = i+1 : L\n",
    "            crosses += perm[j] < perm[i]\n",
    "        end\n",
    "    end\n",
    "    return iseven(crosses) ? 1 : -1    \n",
    "end"
   ]
  },
  {
   "cell_type": "code",
   "execution_count": 8,
   "metadata": {},
   "outputs": [
    {
     "data": {
      "text/plain": [
       "1"
      ]
     },
     "execution_count": 8,
     "metadata": {},
     "output_type": "execute_result"
    }
   ],
   "source": [
    "sign([1, 2, 3])"
   ]
  },
  {
   "cell_type": "code",
   "execution_count": 9,
   "metadata": {},
   "outputs": [
    {
     "data": {
      "text/plain": [
       "-1"
      ]
     },
     "execution_count": 9,
     "metadata": {},
     "output_type": "execute_result"
    }
   ],
   "source": [
    "sign([2, 1, 3])"
   ]
  },
  {
   "cell_type": "code",
   "execution_count": 21,
   "metadata": {},
   "outputs": [
    {
     "data": {
      "text/plain": [
       "levicivita_simple (generic function with 1 method)"
      ]
     },
     "execution_count": 21,
     "metadata": {},
     "output_type": "execute_result"
    }
   ],
   "source": [
    "function levicivita_simple{T<:Integer}(p::AbstractVector{T}) #para tomar el caso en el que los subindices se repiten, podemos mejorar el codigo tomando a n chicas, como:\n",
    "    isperm(p) || return 0\n",
    "    \n",
    "    n = length(p)\n",
    "    ɛ = 1\n",
    "    \n",
    "    for i = 1:(n-1), j = (i+1):n\n",
    "        ɛ *= sign(p[j] - p[i])\n",
    "    end\n",
    "    \n",
    "    return ɛ\n",
    "end"
   ]
  },
  {
   "cell_type": "code",
   "execution_count": 18,
   "metadata": {},
   "outputs": [
    {
     "data": {
      "text/plain": [
       "0"
      ]
     },
     "execution_count": 18,
     "metadata": {},
     "output_type": "execute_result"
    }
   ],
   "source": [
    "levicivita_simple([2, 1, 1])"
   ]
  },
  {
   "cell_type": "code",
   "execution_count": 24,
   "metadata": {},
   "outputs": [
    {
     "data": {
      "text/plain": [
       "0"
      ]
     },
     "execution_count": 24,
     "metadata": {},
     "output_type": "execute_result"
    }
   ],
   "source": [
    "levicivita_simple([2, 1, 2])"
   ]
  },
  {
   "cell_type": "code",
   "execution_count": 26,
   "metadata": {},
   "outputs": [
    {
     "data": {
      "text/plain": [
       "levicivita (generic function with 1 method)"
      ]
     },
     "execution_count": 26,
     "metadata": {},
     "output_type": "execute_result"
    }
   ],
   "source": [
    "#Ahora queremos una función para calcular el símbolo Levi-Civita de una permutación de longitud n \n",
    "function levicivita{T<:Integer}(p::AbstractVector{T})\n",
    "    n = length(p)\n",
    "    todo = trues(n)\n",
    "    first = 1\n",
    "    cycles = flips = 0\n",
    "\n",
    "    while cycles + flips < n\n",
    "        first = findnext(todo, first)\n",
    "        (todo[first] $= true) && return 0\n",
    "        j = p[first]\n",
    "        (0 < j <= n) || return 0\n",
    "        cycles += 1\n",
    "        while j ≠ first\n",
    "            (todo[j] $= true) && return 0\n",
    "            j = p[j]\n",
    "            (0 < j <= n) || return 0\n",
    "            flips += 1\n",
    "        end\n",
    "    end\n",
    "\n",
    "    return iseven(flips) ? 1 : -1\n",
    "end"
   ]
  },
  {
   "cell_type": "code",
   "execution_count": 27,
   "metadata": {},
   "outputs": [
    {
     "data": {
      "text/plain": [
       "0"
      ]
     },
     "execution_count": 27,
     "metadata": {},
     "output_type": "execute_result"
    }
   ],
   "source": [
    "levicivita([2, 1, 1])"
   ]
  },
  {
   "cell_type": "code",
   "execution_count": 28,
   "metadata": {},
   "outputs": [
    {
     "data": {
      "text/plain": [
       "-1"
      ]
     },
     "execution_count": 28,
     "metadata": {},
     "output_type": "execute_result"
    }
   ],
   "source": [
    "levicivita([2, 1, 3])"
   ]
  },
  {
   "cell_type": "code",
   "execution_count": 30,
   "metadata": {},
   "outputs": [
    {
     "data": {
      "text/plain": [
       "1"
      ]
     },
     "execution_count": 30,
     "metadata": {},
     "output_type": "execute_result"
    }
   ],
   "source": [
    "levicivita([1, 2, 3])"
   ]
  },
  {
   "cell_type": "markdown",
   "metadata": {},
   "source": [
    "Mejorando el codigo del producto de vectores $\\overline {a}\\times \\overline {b}=\\varepsilon _{ijk}\\widehat {e}_{i}a_{j}b_{k}$ cambiando los coeficientes por el simbolo de levi-civita correspondiente:"
   ]
  },
  {
   "cell_type": "code",
   "execution_count": 35,
   "metadata": {},
   "outputs": [
    {
     "data": {
      "text/plain": [
       "prodcruz (generic function with 1 method)"
      ]
     },
     "execution_count": 35,
     "metadata": {},
     "output_type": "execute_result"
    }
   ],
   "source": [
    "function prodcruz(a,b) \n",
    "    T1= levicivita([1, 2, 3])*(a[2] *  b[3])+ levicivita([1, 3, 2])* (a[3] * b[2]);\n",
    "    T2=  levicivita([2, 3, 1])*(a[3] * b[1]) +  levicivita([2, 1, 3])*(a[1] * b[3]);\n",
    "    T3=  levicivita([3, 1, 2])*(a[1] * b[2]) +  levicivita([3, 2, 1])*(a[2] * b[1]);\n",
    " return c = [T1, T2, T3]\n",
    "    end"
   ]
  },
  {
   "cell_type": "code",
   "execution_count": 36,
   "metadata": {},
   "outputs": [],
   "source": [
    "a=[1, 2, 3];\n",
    "b=[10, 20, 30];"
   ]
  },
  {
   "cell_type": "code",
   "execution_count": 37,
   "metadata": {},
   "outputs": [
    {
     "data": {
      "text/plain": [
       "3-element Array{Int64,1}:\n",
       " 0\n",
       " 0\n",
       " 0"
      ]
     },
     "execution_count": 37,
     "metadata": {},
     "output_type": "execute_result"
    }
   ],
   "source": [
    "prodcruz(a,b)"
   ]
  },
  {
   "cell_type": "code",
   "execution_count": null,
   "metadata": {},
   "outputs": [],
   "source": []
  }
 ],
 "metadata": {
  "kernelspec": {
   "display_name": "Julia 0.6.2",
   "language": "julia",
   "name": "julia-0.6"
  },
  "language_info": {
   "file_extension": ".jl",
   "mimetype": "application/julia",
   "name": "julia",
   "version": "0.6.2"
  }
 },
 "nbformat": 4,
 "nbformat_minor": 2
}
